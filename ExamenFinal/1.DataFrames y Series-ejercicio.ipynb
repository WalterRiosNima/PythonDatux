{
 "cells": [
  {
   "cell_type": "markdown",
   "metadata": {},
   "source": [
    "# Importar Pandas"
   ]
  },
  {
   "cell_type": "code",
   "execution_count": 1,
   "metadata": {},
   "outputs": [],
   "source": [
    "#importa pandas\n",
    "import pandas as pd"
   ]
  },
  {
   "cell_type": "markdown",
   "metadata": {},
   "source": [
    "# Crear una Serie"
   ]
  },
  {
   "cell_type": "markdown",
   "metadata": {},
   "source": [
    "Explore series en python en el siguiente [link](https://pandas.pydata.org/pandas-docs/stable/user_guide/10min.html) en las primeras lineas del documento"
   ]
  },
  {
   "cell_type": "code",
   "execution_count": null,
   "metadata": {
    "tags": []
   },
   "outputs": [],
   "source": [
    "# Crea una Serie de los numeros 10, 20 and 10.\n",
    "\n"
   ]
  },
  {
   "cell_type": "code",
   "execution_count": null,
   "metadata": {
    "tags": []
   },
   "outputs": [],
   "source": [
    "# Crea una Serie con tres objetos: 'rojo', 'verde', 'azul'\n",
    "\n"
   ]
  },
  {
   "cell_type": "markdown",
   "metadata": {},
   "source": [
    "# Crear un Dataframe"
   ]
  },
  {
   "cell_type": "code",
   "execution_count": null,
   "metadata": {
    "tags": []
   },
   "outputs": [],
   "source": [
    "# Crea un dataframe vacío llamado 'df'\n",
    "df = pd.Dataframe()"
   ]
  },
  {
   "cell_type": "code",
   "execution_count": null,
   "metadata": {
    "tags": []
   },
   "outputs": [],
   "source": [
    "# Crea una nueva columna en el dataframe, y asignale la primera serie que has creado\n"
   ]
  },
  {
   "cell_type": "code",
   "execution_count": null,
   "metadata": {
    "tags": []
   },
   "outputs": [],
   "source": [
    "# Crea otra columna en el dataframe y asignale la segunda Serie que has creado\n"
   ]
  },
  {
   "cell_type": "markdown",
   "metadata": {},
   "source": [
    "# Leer un dataframe"
   ]
  },
  {
   "cell_type": "code",
   "execution_count": 6,
   "metadata": {
    "tags": []
   },
   "outputs": [
    {
     "data": {
      "text/html": [
       "<div>\n",
       "<style scoped>\n",
       "    .dataframe tbody tr th:only-of-type {\n",
       "        vertical-align: middle;\n",
       "    }\n",
       "\n",
       "    .dataframe tbody tr th {\n",
       "        vertical-align: top;\n",
       "    }\n",
       "\n",
       "    .dataframe thead th {\n",
       "        text-align: right;\n",
       "    }\n",
       "</style>\n",
       "<table border=\"1\" class=\"dataframe\">\n",
       "  <thead>\n",
       "    <tr style=\"text-align: right;\">\n",
       "      <th></th>\n",
       "      <th>URL</th>\n",
       "      <th>nombre</th>\n",
       "      <th>n_apariciones</th>\n",
       "      <th>actual</th>\n",
       "      <th>genero</th>\n",
       "      <th>fecha_inicio</th>\n",
       "      <th>Notes</th>\n",
       "    </tr>\n",
       "  </thead>\n",
       "  <tbody>\n",
       "    <tr>\n",
       "      <th>0</th>\n",
       "      <td>http://marvel.wikia.com/Henry_Pym_(Earth-616)</td>\n",
       "      <td>Henry Jonathan \"Hank\" Pym</td>\n",
       "      <td>1269</td>\n",
       "      <td>YES</td>\n",
       "      <td>MALE</td>\n",
       "      <td>1963</td>\n",
       "      <td>Merged with Ultron in Rage of Ultron Vol. 1. A...</td>\n",
       "    </tr>\n",
       "    <tr>\n",
       "      <th>1</th>\n",
       "      <td>http://marvel.wikia.com/Janet_van_Dyne_(Earth-...</td>\n",
       "      <td>Janet van Dyne</td>\n",
       "      <td>1165</td>\n",
       "      <td>YES</td>\n",
       "      <td>FEMALE</td>\n",
       "      <td>1963</td>\n",
       "      <td>Dies in Secret Invasion V1:I8. Actually was se...</td>\n",
       "    </tr>\n",
       "    <tr>\n",
       "      <th>2</th>\n",
       "      <td>http://marvel.wikia.com/Anthony_Stark_(Earth-616)</td>\n",
       "      <td>Anthony Edward \"Tony\" Stark</td>\n",
       "      <td>3068</td>\n",
       "      <td>YES</td>\n",
       "      <td>MALE</td>\n",
       "      <td>1963</td>\n",
       "      <td>Death: \"Later while under the influence of Imm...</td>\n",
       "    </tr>\n",
       "    <tr>\n",
       "      <th>3</th>\n",
       "      <td>http://marvel.wikia.com/Robert_Bruce_Banner_(E...</td>\n",
       "      <td>Robert Bruce Banner</td>\n",
       "      <td>2089</td>\n",
       "      <td>YES</td>\n",
       "      <td>MALE</td>\n",
       "      <td>1963</td>\n",
       "      <td>Dies in Ghosts of the Future arc. However \"he ...</td>\n",
       "    </tr>\n",
       "    <tr>\n",
       "      <th>4</th>\n",
       "      <td>http://marvel.wikia.com/Thor_Odinson_(Earth-616)</td>\n",
       "      <td>Thor Odinson</td>\n",
       "      <td>2402</td>\n",
       "      <td>YES</td>\n",
       "      <td>MALE</td>\n",
       "      <td>1963</td>\n",
       "      <td>Dies in Fear Itself brought back because that'...</td>\n",
       "    </tr>\n",
       "    <tr>\n",
       "      <th>...</th>\n",
       "      <td>...</td>\n",
       "      <td>...</td>\n",
       "      <td>...</td>\n",
       "      <td>...</td>\n",
       "      <td>...</td>\n",
       "      <td>...</td>\n",
       "      <td>...</td>\n",
       "    </tr>\n",
       "    <tr>\n",
       "      <th>168</th>\n",
       "      <td>http://marvel.wikia.com/Eric_Brooks_(Earth-616)#</td>\n",
       "      <td>Eric Brooks</td>\n",
       "      <td>198</td>\n",
       "      <td>YES</td>\n",
       "      <td>MALE</td>\n",
       "      <td>2013</td>\n",
       "      <td>NaN</td>\n",
       "    </tr>\n",
       "    <tr>\n",
       "      <th>169</th>\n",
       "      <td>http://marvel.wikia.com/Adam_Brashear_(Earth-6...</td>\n",
       "      <td>Adam Brashear</td>\n",
       "      <td>29</td>\n",
       "      <td>YES</td>\n",
       "      <td>MALE</td>\n",
       "      <td>2014</td>\n",
       "      <td>NaN</td>\n",
       "    </tr>\n",
       "    <tr>\n",
       "      <th>170</th>\n",
       "      <td>http://marvel.wikia.com/Victor_Alvarez_(Earth-...</td>\n",
       "      <td>Victor Alvarez</td>\n",
       "      <td>45</td>\n",
       "      <td>YES</td>\n",
       "      <td>MALE</td>\n",
       "      <td>2014</td>\n",
       "      <td>NaN</td>\n",
       "    </tr>\n",
       "    <tr>\n",
       "      <th>171</th>\n",
       "      <td>http://marvel.wikia.com/Ava_Ayala_(Earth-616)#</td>\n",
       "      <td>Ava Ayala</td>\n",
       "      <td>49</td>\n",
       "      <td>YES</td>\n",
       "      <td>FEMALE</td>\n",
       "      <td>2014</td>\n",
       "      <td>NaN</td>\n",
       "    </tr>\n",
       "    <tr>\n",
       "      <th>172</th>\n",
       "      <td>http://marvel.wikia.com/Kaluu_(Earth-616)#</td>\n",
       "      <td>Kaluu</td>\n",
       "      <td>35</td>\n",
       "      <td>YES</td>\n",
       "      <td>MALE</td>\n",
       "      <td>2015</td>\n",
       "      <td>NaN</td>\n",
       "    </tr>\n",
       "  </tbody>\n",
       "</table>\n",
       "<p>173 rows × 7 columns</p>\n",
       "</div>"
      ],
      "text/plain": [
       "                                                   URL  \\\n",
       "0        http://marvel.wikia.com/Henry_Pym_(Earth-616)   \n",
       "1    http://marvel.wikia.com/Janet_van_Dyne_(Earth-...   \n",
       "2    http://marvel.wikia.com/Anthony_Stark_(Earth-616)   \n",
       "3    http://marvel.wikia.com/Robert_Bruce_Banner_(E...   \n",
       "4     http://marvel.wikia.com/Thor_Odinson_(Earth-616)   \n",
       "..                                                 ...   \n",
       "168   http://marvel.wikia.com/Eric_Brooks_(Earth-616)#   \n",
       "169  http://marvel.wikia.com/Adam_Brashear_(Earth-6...   \n",
       "170  http://marvel.wikia.com/Victor_Alvarez_(Earth-...   \n",
       "171     http://marvel.wikia.com/Ava_Ayala_(Earth-616)#   \n",
       "172         http://marvel.wikia.com/Kaluu_(Earth-616)#   \n",
       "\n",
       "                          nombre  n_apariciones actual  genero  fecha_inicio  \\\n",
       "0      Henry Jonathan \"Hank\" Pym           1269    YES    MALE          1963   \n",
       "1                 Janet van Dyne           1165    YES  FEMALE          1963   \n",
       "2    Anthony Edward \"Tony\" Stark           3068    YES    MALE          1963   \n",
       "3            Robert Bruce Banner           2089    YES    MALE          1963   \n",
       "4                   Thor Odinson           2402    YES    MALE          1963   \n",
       "..                           ...            ...    ...     ...           ...   \n",
       "168                  Eric Brooks            198    YES    MALE          2013   \n",
       "169                Adam Brashear             29    YES    MALE          2014   \n",
       "170               Victor Alvarez             45    YES    MALE          2014   \n",
       "171                    Ava Ayala             49    YES  FEMALE          2014   \n",
       "172                        Kaluu             35    YES    MALE          2015   \n",
       "\n",
       "                                                 Notes  \n",
       "0    Merged with Ultron in Rage of Ultron Vol. 1. A...  \n",
       "1    Dies in Secret Invasion V1:I8. Actually was se...  \n",
       "2    Death: \"Later while under the influence of Imm...  \n",
       "3    Dies in Ghosts of the Future arc. However \"he ...  \n",
       "4    Dies in Fear Itself brought back because that'...  \n",
       "..                                                 ...  \n",
       "168                                                NaN  \n",
       "169                                                NaN  \n",
       "170                                                NaN  \n",
       "171                                                NaN  \n",
       "172                                                NaN  \n",
       "\n",
       "[173 rows x 7 columns]"
      ]
     },
     "execution_count": 6,
     "metadata": {},
     "output_type": "execute_result"
    }
   ],
   "source": [
    "# Lee el archivo llamado 'avengers.csv\" localizado en la carpeta \"data\" y crea un DataFrame, llamado 'avengers'. \n",
    "# El archivo está localizado en \"data/avengers.csv\"\n",
    "\n",
    "df_all=pd.read_csv(\"G:/Mi unidad/Cursos y Especializaciones/Programación en Python_Datux Perú/MisCódigos/ExamenFinal/src/pandas/avengers.csv\")\n",
    "df_all"
   ]
  },
  {
   "cell_type": "markdown",
   "metadata": {},
   "source": [
    "# Inspeccionar un dataframe"
   ]
  },
  {
   "cell_type": "code",
   "execution_count": 3,
   "metadata": {
    "tags": []
   },
   "outputs": [],
   "source": [
    "# Muestra las primeras 5 filas del DataFrame.\n",
    "\n"
   ]
  },
  {
   "cell_type": "code",
   "execution_count": 5,
   "metadata": {
    "tags": []
   },
   "outputs": [],
   "source": [
    "# Muestra las primeras 10 filas del DataFrame. \n"
   ]
  },
  {
   "cell_type": "code",
   "execution_count": 6,
   "metadata": {
    "tags": []
   },
   "outputs": [],
   "source": [
    "# Muestra las últimas 5 filas del DataFrame.\n",
    "\n"
   ]
  },
  {
   "cell_type": "markdown",
   "metadata": {},
   "source": [
    "# Tamaño del DataFrame"
   ]
  },
  {
   "cell_type": "code",
   "execution_count": 7,
   "metadata": {
    "tags": []
   },
   "outputs": [],
   "source": [
    "# Muestra el tamaño del DataFrame\n"
   ]
  },
  {
   "cell_type": "markdown",
   "metadata": {},
   "source": [
    "# Data types en un DataFrame"
   ]
  },
  {
   "cell_type": "code",
   "execution_count": 8,
   "metadata": {
    "tags": []
   },
   "outputs": [],
   "source": [
    "# Muestra los data types del dataframe\n"
   ]
  },
  {
   "cell_type": "markdown",
   "metadata": {},
   "source": [
    "# Editar el indice (index)"
   ]
  },
  {
   "cell_type": "code",
   "execution_count": 9,
   "metadata": {
    "tags": []
   },
   "outputs": [],
   "source": [
    "# Cambia el indice a la columna \"fecha_inicio\".\n",
    "\n"
   ]
  },
  {
   "cell_type": "markdown",
   "metadata": {},
   "source": [
    "# Ordenar el indice"
   ]
  },
  {
   "cell_type": "code",
   "execution_count": 10,
   "metadata": {
    "tags": []
   },
   "outputs": [],
   "source": [
    "# Ordena el índice de forma descendiente\n"
   ]
  },
  {
   "cell_type": "markdown",
   "metadata": {},
   "source": [
    "# Resetear el indice"
   ]
  },
  {
   "cell_type": "code",
   "execution_count": 11,
   "metadata": {
    "tags": []
   },
   "outputs": [],
   "source": [
    "# Resetea el índice\n",
    "\n"
   ]
  }
 ],
 "metadata": {
  "kernelspec": {
   "display_name": "Python 3.9.7 ('base')",
   "language": "python",
   "name": "python3"
  },
  "language_info": {
   "codemirror_mode": {
    "name": "ipython",
    "version": 3
   },
   "file_extension": ".py",
   "mimetype": "text/x-python",
   "name": "python",
   "nbconvert_exporter": "python",
   "pygments_lexer": "ipython3",
   "version": "3.9.7"
  },
  "vscode": {
   "interpreter": {
    "hash": "ad2bdc8ecc057115af97d19610ffacc2b4e99fae6737bb82f5d7fb13d2f2c186"
   }
  }
 },
 "nbformat": 4,
 "nbformat_minor": 4
}
